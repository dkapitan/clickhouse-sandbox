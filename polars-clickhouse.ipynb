{
 "cells": [
  {
   "cell_type": "markdown",
   "metadata": {},
   "source": [
    "# Minimal Clickhouse"
   ]
  },
  {
   "cell_type": "code",
   "execution_count": 2,
   "metadata": {},
   "outputs": [
    {
     "data": {
      "text/html": [
       "<div><style>\n",
       ".dataframe > thead > tr,\n",
       ".dataframe > tbody > tr {\n",
       "  text-align: right;\n",
       "  white-space: pre-wrap;\n",
       "}\n",
       "</style>\n",
       "<small>shape: (5, 14)</small><table border=\"1\" class=\"dataframe\"><thead><tr><th>VERSIE</th><th>DATUM_BESTAND</th><th>PEILDATUM</th><th>JAAR</th><th>BEHANDELEND_SPECIALISME_CD</th><th>TYPERENDE_DIAGNOSE_CD</th><th>ZORGPRODUCT_CD</th><th>AANTAL_PAT_PER_ZPD</th><th>AANTAL_SUBTRAJECT_PER_ZPD</th><th>AANTAL_PAT_PER_DIAG</th><th>AANTAL_SUBTRAJECT_PER_DIAG</th><th>AANTAL_PAT_PER_SPC</th><th>AANTAL_SUBTRAJECT_PER_SPC</th><th>GEMIDDELDE_VERKOOPPRIJS</th></tr><tr><td>f64</td><td>date</td><td>date</td><td>i64</td><td>i64</td><td>str</td><td>i64</td><td>i64</td><td>i64</td><td>i64</td><td>i64</td><td>i64</td><td>i64</td><td>i64</td></tr></thead><tbody><tr><td>1.0</td><td>2024-04-15</td><td>2024-04-01</td><td>2021</td><td>318</td><td>&quot;203&quot;</td><td>119499078</td><td>14213</td><td>16904</td><td>44133</td><td>58881</td><td>560226</td><td>832680</td><td>280</td></tr><tr><td>1.0</td><td>2024-04-15</td><td>2024-04-01</td><td>2020</td><td>307</td><td>&quot;B13&quot;</td><td>159899007</td><td>102</td><td>102</td><td>118</td><td>118</td><td>677776</td><td>1128999</td><td>4455</td></tr><tr><td>1.0</td><td>2024-04-15</td><td>2024-04-01</td><td>2021</td><td>361</td><td>&quot;104&quot;</td><td>990061029</td><td>1574</td><td>2000</td><td>3439</td><td>5157</td><td>95133</td><td>142589</td><td>195</td></tr><tr><td>1.0</td><td>2024-04-15</td><td>2024-04-01</td><td>2020</td><td>307</td><td>&quot;G14&quot;</td><td>990003024</td><td>67</td><td>67</td><td>19592</td><td>20820</td><td>677776</td><td>1128999</td><td>150</td></tr><tr><td>1.0</td><td>2024-04-15</td><td>2024-04-01</td><td>2021</td><td>318</td><td>&quot;605&quot;</td><td>119499075</td><td>529</td><td>574</td><td>5831</td><td>7354</td><td>560226</td><td>832680</td><td>705</td></tr></tbody></table></div>"
      ],
      "text/plain": [
       "shape: (5, 14)\n",
       "┌────────┬─────────────┬────────────┬──────┬───┬────────────┬────────────┬────────────┬────────────┐\n",
       "│ VERSIE ┆ DATUM_BESTA ┆ PEILDATUM  ┆ JAAR ┆ … ┆ AANTAL_SUB ┆ AANTAL_PAT ┆ AANTAL_SUB ┆ GEMIDDELDE │\n",
       "│ ---    ┆ ND          ┆ ---        ┆ ---  ┆   ┆ TRAJECT_PE ┆ _PER_SPC   ┆ TRAJECT_PE ┆ _VERKOOPPR │\n",
       "│ f64    ┆ ---         ┆ date       ┆ i64  ┆   ┆ R_DIAG     ┆ ---        ┆ R_SPC      ┆ IJS        │\n",
       "│        ┆ date        ┆            ┆      ┆   ┆ ---        ┆ i64        ┆ ---        ┆ ---        │\n",
       "│        ┆             ┆            ┆      ┆   ┆ i64        ┆            ┆ i64        ┆ i64        │\n",
       "╞════════╪═════════════╪════════════╪══════╪═══╪════════════╪════════════╪════════════╪════════════╡\n",
       "│ 1.0    ┆ 2024-04-15  ┆ 2024-04-01 ┆ 2021 ┆ … ┆ 58881      ┆ 560226     ┆ 832680     ┆ 280        │\n",
       "│ 1.0    ┆ 2024-04-15  ┆ 2024-04-01 ┆ 2020 ┆ … ┆ 118        ┆ 677776     ┆ 1128999    ┆ 4455       │\n",
       "│ 1.0    ┆ 2024-04-15  ┆ 2024-04-01 ┆ 2021 ┆ … ┆ 5157       ┆ 95133      ┆ 142589     ┆ 195        │\n",
       "│ 1.0    ┆ 2024-04-15  ┆ 2024-04-01 ┆ 2020 ┆ … ┆ 20820      ┆ 677776     ┆ 1128999    ┆ 150        │\n",
       "│ 1.0    ┆ 2024-04-15  ┆ 2024-04-01 ┆ 2021 ┆ … ┆ 7354       ┆ 560226     ┆ 832680     ┆ 705        │\n",
       "└────────┴─────────────┴────────────┴──────┴───┴────────────┴────────────┴────────────┴────────────┘"
      ]
     },
     "execution_count": 2,
     "metadata": {},
     "output_type": "execute_result"
    }
   ],
   "source": [
    "import clickhouse_connect\n",
    "import polars as pl\n",
    "\n",
    "\n",
    "DIS = {\n",
    "    \"zorgproducten\": \"https://www.opendisdata.nl/download/csv/01_DBC.csv\",\n",
    "    \"zorgactiviteiten\": \"https://www.opendisdata.nl/download/csv/02_DBC_PROFIEL.csv\",\n",
    "    \"ref-zorgproducten\": \"https://www.opendisdata.nl/download/csv/05_REF_ZPD.csv\",\n",
    "    \"ref-zorgactiviteiten\": \"https://www.opendisdata.nl/download/csv/03_REF_ZAT.csv\",\n",
    "    \"ref-specialismen\": \"https://www.opendisdata.nl/download/csv/06_REF_SPC.csv\",\n",
    "    \"ref-diagnoses\": \"https://www.opendisdata.nl/download/csv/04_REF_DGN.csv\",\n",
    "}\n",
    "zp = pl.read_csv(DIS.get(\"zorgproducten\"), try_parse_dates=True)\n",
    "zp.head()"
   ]
  },
  {
   "cell_type": "code",
   "execution_count": 3,
   "metadata": {},
   "outputs": [],
   "source": []
  },
  {
   "cell_type": "code",
   "execution_count": 7,
   "metadata": {},
   "outputs": [
    {
     "data": {
      "text/plain": [
       "<clickhouse_connect.driver.summary.QuerySummary at 0x17e42ff10>"
      ]
     },
     "execution_count": 7,
     "metadata": {},
     "output_type": "execute_result"
    }
   ],
   "source": [
    "client = clickhouse_connect.get_client(host=\"localhost\", username=\"default\")\n",
    "zp.write_parquet(\"clickhouse/user_files/zorgproducten.parquet\")\n",
    "client.command(\n",
    "    \"\"\"\n",
    "CREATE TABLE zorgproducten\n",
    "ENGINE = MergeTree\n",
    "ORDER BY tuple() AS\n",
    "SELECT *\n",
    "FROM file('zorgproducten.parquet', Parquet)\n",
    "\"\"\"\n",
    ")"
   ]
  },
  {
   "cell_type": "code",
   "execution_count": 8,
   "metadata": {},
   "outputs": [
    {
     "data": {
      "text/plain": [
       "['1',\n",
       " '2024-04-15',\n",
       " '2024-04-01',\n",
       " '2021',\n",
       " '318',\n",
       " '203',\n",
       " '119499078',\n",
       " '14213',\n",
       " '16904',\n",
       " '44133',\n",
       " '58881',\n",
       " '560226',\n",
       " '832680',\n",
       " '280\\n1',\n",
       " '2024-04-15',\n",
       " '2024-04-01',\n",
       " '2020',\n",
       " '307',\n",
       " 'B13',\n",
       " '159899007',\n",
       " '102',\n",
       " '102',\n",
       " '118',\n",
       " '118',\n",
       " '677776',\n",
       " '1128999',\n",
       " '4455\\n1',\n",
       " '2024-04-15',\n",
       " '2024-04-01',\n",
       " '2021',\n",
       " '361',\n",
       " '104',\n",
       " '990061029',\n",
       " '1574',\n",
       " '2000',\n",
       " '3439',\n",
       " '5157',\n",
       " '95133',\n",
       " '142589',\n",
       " '195\\n1',\n",
       " '2024-04-15',\n",
       " '2024-04-01',\n",
       " '2020',\n",
       " '307',\n",
       " 'G14',\n",
       " '990003024',\n",
       " '67',\n",
       " '67',\n",
       " '19592',\n",
       " '20820',\n",
       " '677776',\n",
       " '1128999',\n",
       " '150\\n1',\n",
       " '2024-04-15',\n",
       " '2024-04-01',\n",
       " '2021',\n",
       " '318',\n",
       " '605',\n",
       " '119499075',\n",
       " '529',\n",
       " '574',\n",
       " '5831',\n",
       " '7354',\n",
       " '560226',\n",
       " '832680',\n",
       " '705\\n1',\n",
       " '2024-04-15',\n",
       " '2024-04-01',\n",
       " '2021',\n",
       " '361',\n",
       " '108',\n",
       " '990061018',\n",
       " '197',\n",
       " '197',\n",
       " '2214',\n",
       " '2710',\n",
       " '95133',\n",
       " '142589',\n",
       " '310\\n1',\n",
       " '2024-04-15',\n",
       " '2024-04-01',\n",
       " '2021',\n",
       " '318',\n",
       " '407',\n",
       " '29199206',\n",
       " '412',\n",
       " '479',\n",
       " '1946',\n",
       " '2618',\n",
       " '560226',\n",
       " '832680',\n",
       " '195\\n1',\n",
       " '2024-04-15',\n",
       " '2024-04-01',\n",
       " '2021',\n",
       " '318',\n",
       " '605',\n",
       " '119499076',\n",
       " '82',\n",
       " '90',\n",
       " '5831',\n",
       " '7354',\n",
       " '560226',\n",
       " '832680',\n",
       " '720\\n1',\n",
       " '2024-04-15',\n",
       " '2024-04-01',\n",
       " '2021',\n",
       " '318',\n",
       " '713',\n",
       " '990003008',\n",
       " '9',\n",
       " '9',\n",
       " '2015',\n",
       " '3600',\n",
       " '560226',\n",
       " '832680',\n",
       " '160\\n1',\n",
       " '2024-04-15',\n",
       " '2024-04-01',\n",
       " '2021',\n",
       " '361',\n",
       " '201',\n",
       " '990061072',\n",
       " '81',\n",
       " '87',\n",
       " '1365',\n",
       " '1758',\n",
       " '95133',\n",
       " '142589',\n",
       " '7390']"
      ]
     },
     "execution_count": 8,
     "metadata": {},
     "output_type": "execute_result"
    }
   ],
   "source": [
    "client.command(\"select * from default.zorgproducten limit 10\")"
   ]
  }
 ],
 "metadata": {
  "kernelspec": {
   "display_name": ".venv",
   "language": "python",
   "name": "python3"
  },
  "language_info": {
   "codemirror_mode": {
    "name": "ipython",
    "version": 3
   },
   "file_extension": ".py",
   "mimetype": "text/x-python",
   "name": "python",
   "nbconvert_exporter": "python",
   "pygments_lexer": "ipython3",
   "version": "3.11.7"
  }
 },
 "nbformat": 4,
 "nbformat_minor": 2
}
